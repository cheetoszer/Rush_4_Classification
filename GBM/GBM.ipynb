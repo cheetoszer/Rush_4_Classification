{
 "cells": [
  {
   "cell_type": "markdown",
   "metadata": {},
   "source": [
    "Clean data"
   ]
  },
  {
   "cell_type": "code",
   "execution_count": 1,
   "metadata": {},
   "outputs": [],
   "source": [
    "import pandas as pd\n",
    "import matplotlib.pyplot as plt\n",
    "import seaborn as sns"
   ]
  },
  {
   "cell_type": "code",
   "execution_count": 2,
   "metadata": {},
   "outputs": [],
   "source": [
    "df = pd.read_csv('../data.csv')"
   ]
  },
  {
   "cell_type": "code",
   "execution_count": 3,
   "metadata": {},
   "outputs": [
    {
     "name": "stderr",
     "output_type": "stream",
     "text": [
      "C:\\Users\\tosca\\AppData\\Local\\Temp\\ipykernel_4064\\2903114193.py:2: FutureWarning: DataFrame.fillna with 'method' is deprecated and will raise in a future version. Use obj.ffill() or obj.bfill() instead.\n",
      "  df.fillna(method='ffill', inplace=True)\n"
     ]
    }
   ],
   "source": [
    "df.isnull().sum()\n",
    "df.fillna(method='ffill', inplace=True)"
   ]
  },
  {
   "cell_type": "markdown",
   "metadata": {},
   "source": [
    "Encoder"
   ]
  },
  {
   "cell_type": "code",
   "execution_count": 4,
   "metadata": {},
   "outputs": [],
   "source": [
    "from sklearn.preprocessing import LabelEncoder, OrdinalEncoder\n",
    "from category_encoders import TargetEncoder"
   ]
  },
  {
   "cell_type": "code",
   "execution_count": 5,
   "metadata": {},
   "outputs": [
    {
     "data": {
      "text/html": [
       "<div>\n",
       "<style scoped>\n",
       "    .dataframe tbody tr th:only-of-type {\n",
       "        vertical-align: middle;\n",
       "    }\n",
       "\n",
       "    .dataframe tbody tr th {\n",
       "        vertical-align: top;\n",
       "    }\n",
       "\n",
       "    .dataframe thead th {\n",
       "        text-align: right;\n",
       "    }\n",
       "</style>\n",
       "<table border=\"1\" class=\"dataframe\">\n",
       "  <thead>\n",
       "    <tr style=\"text-align: right;\">\n",
       "      <th></th>\n",
       "      <th>month</th>\n",
       "      <th>credit_amount</th>\n",
       "      <th>credit_term (month)</th>\n",
       "      <th>age</th>\n",
       "      <th>sex</th>\n",
       "      <th>education</th>\n",
       "      <th>product_type</th>\n",
       "      <th>having_children_flg</th>\n",
       "      <th>region</th>\n",
       "      <th>income</th>\n",
       "      <th>family_status</th>\n",
       "      <th>phone_operator</th>\n",
       "      <th>is_client</th>\n",
       "      <th>bad_client_target</th>\n",
       "    </tr>\n",
       "  </thead>\n",
       "  <tbody>\n",
       "    <tr>\n",
       "      <th>0</th>\n",
       "      <td>1</td>\n",
       "      <td>7000</td>\n",
       "      <td>12</td>\n",
       "      <td>39</td>\n",
       "      <td>1</td>\n",
       "      <td>2.0</td>\n",
       "      <td>0.226908</td>\n",
       "      <td>0</td>\n",
       "      <td>2</td>\n",
       "      <td>21000</td>\n",
       "      <td>0.104080</td>\n",
       "      <td>0</td>\n",
       "      <td>0</td>\n",
       "      <td>0</td>\n",
       "    </tr>\n",
       "    <tr>\n",
       "      <th>1</th>\n",
       "      <td>1</td>\n",
       "      <td>19000</td>\n",
       "      <td>6</td>\n",
       "      <td>20</td>\n",
       "      <td>1</td>\n",
       "      <td>2.0</td>\n",
       "      <td>0.076433</td>\n",
       "      <td>1</td>\n",
       "      <td>2</td>\n",
       "      <td>17000</td>\n",
       "      <td>0.104080</td>\n",
       "      <td>3</td>\n",
       "      <td>1</td>\n",
       "      <td>0</td>\n",
       "    </tr>\n",
       "    <tr>\n",
       "      <th>2</th>\n",
       "      <td>1</td>\n",
       "      <td>29000</td>\n",
       "      <td>12</td>\n",
       "      <td>23</td>\n",
       "      <td>0</td>\n",
       "      <td>2.0</td>\n",
       "      <td>0.076433</td>\n",
       "      <td>0</td>\n",
       "      <td>2</td>\n",
       "      <td>31000</td>\n",
       "      <td>0.104080</td>\n",
       "      <td>2</td>\n",
       "      <td>0</td>\n",
       "      <td>0</td>\n",
       "    </tr>\n",
       "    <tr>\n",
       "      <th>3</th>\n",
       "      <td>1</td>\n",
       "      <td>10000</td>\n",
       "      <td>12</td>\n",
       "      <td>30</td>\n",
       "      <td>1</td>\n",
       "      <td>2.0</td>\n",
       "      <td>0.226908</td>\n",
       "      <td>1</td>\n",
       "      <td>2</td>\n",
       "      <td>31000</td>\n",
       "      <td>0.115385</td>\n",
       "      <td>3</td>\n",
       "      <td>1</td>\n",
       "      <td>0</td>\n",
       "    </tr>\n",
       "    <tr>\n",
       "      <th>4</th>\n",
       "      <td>1</td>\n",
       "      <td>14500</td>\n",
       "      <td>12</td>\n",
       "      <td>25</td>\n",
       "      <td>0</td>\n",
       "      <td>4.0</td>\n",
       "      <td>0.226908</td>\n",
       "      <td>0</td>\n",
       "      <td>2</td>\n",
       "      <td>26000</td>\n",
       "      <td>0.139640</td>\n",
       "      <td>0</td>\n",
       "      <td>1</td>\n",
       "      <td>0</td>\n",
       "    </tr>\n",
       "  </tbody>\n",
       "</table>\n",
       "</div>"
      ],
      "text/plain": [
       "   month  credit_amount  credit_term (month)  age  sex  education  \\\n",
       "0      1           7000                   12   39    1        2.0   \n",
       "1      1          19000                    6   20    1        2.0   \n",
       "2      1          29000                   12   23    0        2.0   \n",
       "3      1          10000                   12   30    1        2.0   \n",
       "4      1          14500                   12   25    0        4.0   \n",
       "\n",
       "   product_type  having_children_flg  region  income  family_status  \\\n",
       "0      0.226908                    0       2   21000       0.104080   \n",
       "1      0.076433                    1       2   17000       0.104080   \n",
       "2      0.076433                    0       2   31000       0.104080   \n",
       "3      0.226908                    1       2   31000       0.115385   \n",
       "4      0.226908                    0       2   26000       0.139640   \n",
       "\n",
       "   phone_operator  is_client  bad_client_target  \n",
       "0               0          0                  0  \n",
       "1               3          1                  0  \n",
       "2               2          0                  0  \n",
       "3               3          1                  0  \n",
       "4               0          1                  0  "
      ]
     },
     "execution_count": 5,
     "metadata": {},
     "output_type": "execute_result"
    }
   ],
   "source": [
    "le_sex = LabelEncoder()\n",
    "df['sex'] = le_sex.fit_transform(df['sex'])\n",
    "\n",
    "ordinal_encoder = OrdinalEncoder(categories=[['Incomplete secondary education', 'Secondary education', 'Secondary special education','Incomplete higher education', 'Higher education', 'PhD degree']]) \n",
    "df['education'] = ordinal_encoder.fit_transform(df[['education']])\n",
    "\n",
    "target_encoder = TargetEncoder(cols=['product_type', 'family_status'], smoothing=1.0)\n",
    "df[['product_type', 'family_status']] = target_encoder.fit_transform(df[['product_type', 'family_status']], df['bad_client_target'])\n",
    "\n",
    "df.head()"
   ]
  },
  {
   "cell_type": "markdown",
   "metadata": {},
   "source": [
    "Verification de colinéarité"
   ]
  },
  {
   "cell_type": "code",
   "execution_count": 6,
   "metadata": {},
   "outputs": [],
   "source": [
    "import numpy as np\n",
    "\n",
    "correlation_matrix = df.corr()\n",
    "for i in range(correlation_matrix.shape[0]):\n",
    "    for j in range(correlation_matrix.shape[1]):\n",
    "        if (correlation_matrix.iloc[i, j] == 1 or correlation_matrix.iloc[i, j] == -1) and i != j :\n",
    "                print(f\"Correlation of 1 or -1 found between '{correlation_matrix.index[i]}' and '{correlation_matrix.columns[j]}'\")"
   ]
  },
  {
   "cell_type": "markdown",
   "metadata": {},
   "source": [
    "Data set"
   ]
  },
  {
   "cell_type": "code",
   "execution_count": 7,
   "metadata": {},
   "outputs": [],
   "source": [
    "from sklearn.preprocessing import StandardScaler\n",
    "from sklearn.metrics import accuracy_score, classification_report\n",
    "from sklearn.model_selection import train_test_split"
   ]
  },
  {
   "cell_type": "code",
   "execution_count": 8,
   "metadata": {},
   "outputs": [],
   "source": [
    "X = df.drop(columns=['bad_client_target']) # Region and phone op are useless data but better benchmark with \n",
    "y = df['bad_client_target'] "
   ]
  },
  {
   "cell_type": "code",
   "execution_count": 9,
   "metadata": {},
   "outputs": [],
   "source": [
    "X_train, X_test, y_train, y_test  = train_test_split(X, y, test_size=0.2, random_state=42, stratify=y) #divide dataset 80/20"
   ]
  },
  {
   "cell_type": "markdown",
   "metadata": {},
   "source": [
    "Standardisation"
   ]
  },
  {
   "cell_type": "code",
   "execution_count": 10,
   "metadata": {},
   "outputs": [],
   "source": [
    "scaler = StandardScaler() \n",
    "X_train_scaled = scaler.fit_transform(X_train)  # Normalisation des données, (x-µ)/σ où : x = data, µ = moyenne de la colonne, σ = ecart-type de la colonne\n",
    "X_test_scaled = scaler.transform(X_test)        # Donnée normalisé = même echelle = pas de donnée avec plus de poid"
   ]
  },
  {
   "cell_type": "code",
   "execution_count": 11,
   "metadata": {},
   "outputs": [
    {
     "data": {
      "image/png": "[encoded data removed]",
      "text/plain": [
       "<Figure size 600x400 with 1 Axes>"
      ]
     },
     "metadata": {},
     "output_type": "display_data"
    }
   ],
   "source": [
    "from sklearn.decomposition import PCA\n",
    "\n",
    "pca = PCA(n_components=2)\n",
    "X_train_pca = pca.fit_transform(X_train_scaled)\n",
    "\n",
    "# Visualiser les données avant rééchantillonnage\n",
    "plt.figure(figsize=(6, 4))\n",
    "plt.scatter(X_train_pca[:, 0], X_train_pca[:, 1], c=y_train, cmap='coolwarm', s=50)\n",
    "plt.title(\"Données avant application de SMOTE (PCA)\")\n",
    "plt.xlabel('PCA 1')\n",
    "plt.ylabel('PCA 2')\n",
    "plt.show()"
   ]
  },
  {
   "cell_type": "code",
   "execution_count": 12,
   "metadata": {},
   "outputs": [
    {
     "name": "stdout",
     "output_type": "stream",
     "text": [
      "X_train shape: (1378, 13)\n",
      "y_train shape: (1378,)\n",
      "X_test shape: (345, 13)\n",
      "y_test shape: (345,)\n"
     ]
    }
   ],
   "source": [
    "print(f\"X_train shape: {X_train.shape}\")\n",
    "print(f\"y_train shape: {y_train.shape}\")\n",
    "print(f\"X_test shape: {X_test.shape}\")\n",
    "print(f\"y_test shape: {y_test.shape}\")"
   ]
  },
  {
   "cell_type": "markdown",
   "metadata": {},
   "source": [
    "Modèle"
   ]
  },
  {
   "cell_type": "code",
   "execution_count": 13,
   "metadata": {},
   "outputs": [],
   "source": [
    "from sklearn.model_selection import GridSearchCV\n",
    "from sklearn.ensemble import GradientBoostingClassifier"
   ]
  },
  {
   "cell_type": "code",
   "execution_count": null,
   "metadata": {},
   "outputs": [
    {
     "name": "stdout",
     "output_type": "stream",
     "text": [
      "Fitting 5 folds for each of 486 candidates, totalling 2430 fits\n"
     ]
    }
   ],
   "source": [
    "model = GradientBoostingClassifier()\n",
    "\n",
    "# Définir la grille de paramètres\n",
    "param_grid = {\n",
    "    'n_estimators': [50, 100, 150],          # Nombre d'arbres\n",
    "    'learning_rate': [0.01, 0.1, 0.2],       # Taux d'apprentissage\n",
    "    'max_depth': [3, 5, 7],                  # Profondeur maximale des arbres\n",
    "    'min_samples_split': [2, 5, 10],         # Nombre minimum d'échantillons pour diviser un noeud\n",
    "    'min_samples_leaf': [1, 2, 4],           # Nombre minimum d'échantillons dans un noeud feuille\n",
    "    'subsample': [0.8, 1.0]                  # Fraction d'échantillons à utiliser pour chaque arbre\n",
    "}\n",
    "\n",
    "grid_search = GridSearchCV(estimator=model, param_grid=param_grid,\n",
    "                           scoring='accuracy', cv=5, verbose=2, n_jobs=-1)\n",
    "\n",
    "# Entraînez le modèle\n",
    "grid_search.fit(X_train_scaled, y_train)\n",
    "\n",
    "# Affichez les meilleurs paramètres\n",
    "print(\"Meilleurs paramètres : \", grid_search.best_params_)\n"
   ]
  },
  {
   "cell_type": "code",
   "execution_count": 32,
   "metadata": {},
   "outputs": [],
   "source": [
    "gbm = GradientBoostingClassifier(learning_rate= 0.01, max_depth= 3, min_samples_leaf= 1, min_samples_split= 2, n_estimators= 150, subsample= 0.8)\n",
    "gbm.fit(X_train_scaled, y_train)\n",
    "y_pred_gbm = gbm.predict(X_test_scaled)"
   ]
  },
  {
   "cell_type": "code",
   "execution_count": 33,
   "metadata": {},
   "outputs": [
    {
     "name": "stdout",
     "output_type": "stream",
     "text": [
      "Précision : 0.89\n",
      "Rapport de classification :\n",
      "               precision    recall  f1-score   support\n",
      "\n",
      "           0       0.89      1.00      0.94       306\n",
      "           1       0.67      0.05      0.10        39\n",
      "\n",
      "    accuracy                           0.89       345\n",
      "   macro avg       0.78      0.52      0.52       345\n",
      "weighted avg       0.87      0.89      0.85       345\n",
      "\n"
     ]
    }
   ],
   "source": [
    "# 2. Calculer la précision\n",
    "accuracy = accuracy_score(y_test, y_pred_gbm)\n",
    "print(f'Précision : {accuracy:.2f}')\n",
    "\n",
    "# 3. Générer un rapport de classification\n",
    "report = classification_report(y_test, y_pred_gbm)\n",
    "print('Rapport de classification :\\n', report)"
   ]
  },
  {
   "cell_type": "code",
   "execution_count": 27,
   "metadata": {},
   "outputs": [
    {
     "data": {
      "text/plain": [
       "<function matplotlib.pyplot.show(close=None, block=None)>"
      ]
     },
     "execution_count": 27,
     "metadata": {},
     "output_type": "execute_result"
    },
    {
     "data": {
      "image/png": "[encoded data removed]",
      "text/plain": [
       "<Figure size 640x480 with 2 Axes>"
      ]
     },
     "metadata": {},
     "output_type": "display_data"
    }
   ],
   "source": [
    "from sklearn.metrics import confusion_matrix\n",
    "\n",
    "conf_matrix = confusion_matrix(y_test, y_pred_gbm)\n",
    "sns.heatmap(conf_matrix,annot=True, fmt='d', cmap='crest')\n",
    "plt.title(\"Matrice de confusion\")\n",
    "plt.xlabel(\"valeur réelle\")\n",
    "plt.ylabel(\"valeur prédite\")\n",
    "plt.show"
   ]
  },
  {
   "cell_type": "code",
   "execution_count": null,
   "metadata": {},
   "outputs": [],
   "source": []
  }
 ],
 "metadata": {
  "kernelspec": {
   "display_name": ".venv",
   "language": "python",
   "name": "python3"
  },
  "language_info": {
   "codemirror_mode": {
    "name": "ipython",
    "version": 3
   },
   "file_extension": ".py",
   "mimetype": "text/x-python",
   "name": "python",
   "nbconvert_exporter": "python",
   "pygments_lexer": "ipython3",
   "version": "3.12.7"
  }
 },
 "nbformat": 4,
 "nbformat_minor": 2
}
